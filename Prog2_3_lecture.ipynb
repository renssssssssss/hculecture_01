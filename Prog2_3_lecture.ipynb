{
  "nbformat": 4,
  "nbformat_minor": 0,
  "metadata": {
    "colab": {
      "name": "Prog2_3_lecture.ipynb",
      "provenance": [],
      "collapsed_sections": [],
      "toc_visible": true,
      "include_colab_link": true
    },
    "kernelspec": {
      "name": "python3",
      "display_name": "Python 3"
    },
    "language_info": {
      "name": "python"
    }
  },
  "cells": [
    {
      "cell_type": "markdown",
      "metadata": {
        "id": "view-in-github",
        "colab_type": "text"
      },
      "source": [
        "<a href=\"https://colab.research.google.com/github/renssssssssss/hculecture_01/blob/main/Prog2_3_lecture.ipynb\" target=\"_parent\"><img src=\"https://colab.research.google.com/assets/colab-badge.svg\" alt=\"Open In Colab\"/></a>"
      ]
    },
    {
      "cell_type": "markdown",
      "metadata": {
        "id": "IdTZTY8N0N8O"
      },
      "source": [
        "# プログラミングII第3回講義資料\n",
        "\n",
        "* 演習課題ではありませんので，間違えてこちらを提出をしないようにしてください．\n",
        "\n",
        "* print関数を使って，変数の値（内容）を確認したり，値を変更したりしながら，動きを確認してください．"
      ]
    },
    {
      "cell_type": "markdown",
      "metadata": {
        "id": "r5swkV0ubLMQ"
      },
      "source": [
        "# はじめに\n",
        "\n",
        "WebClassに準備している説明を聞いた上で，プログラムの動作確認をしてください．プログラムの使い方の理解ができたら，練習問題に取り組んでください．\n",
        "\n",
        "練習問題の説明もあります．"
      ]
    },
    {
      "cell_type": "markdown",
      "metadata": {
        "id": "MDAPF7ACGhri"
      },
      "source": [
        "# ライブラリのインポート\n",
        "\n",
        "最初に実行すること"
      ]
    },
    {
      "cell_type": "code",
      "metadata": {
        "id": "QsdgyRotAqsz"
      },
      "source": [
        "import matplotlib.pyplot as plt\n",
        "import numpy as np"
      ],
      "execution_count": null,
      "outputs": []
    },
    {
      "cell_type": "markdown",
      "metadata": {
        "id": "mZQ89vrrj6Wl"
      },
      "source": [
        "# 方程式で図形を描く"
      ]
    },
    {
      "cell_type": "markdown",
      "metadata": {
        "id": "zioWqZeUW7kx"
      },
      "source": [
        "## numpy.arange"
      ]
    },
    {
      "cell_type": "code",
      "metadata": {
        "id": "wZwpWDDOjzjn"
      },
      "source": [
        "# list1-1 # 動作確認\n",
        "x = np.arange(-1.0,1.01,0.01)\n",
        "y = 3 * x\n",
        "#listを使用する場合（ここから）\n",
        "#y = []\n",
        "#for i in range(len(x)):\n",
        "#  y.append(3 * x[i])\n",
        "#listを使用する場合（ここまで）\n",
        "\n",
        "plt.plot(x,y)\n",
        "plt.grid(color='0.8')\n",
        "plt.show()"
      ],
      "execution_count": null,
      "outputs": []
    },
    {
      "cell_type": "markdown",
      "metadata": {
        "id": "Sh0DvwqKkQTt"
      },
      "source": [
        "## 練習1"
      ]
    },
    {
      "cell_type": "code",
      "metadata": {
        "id": "nf854_JFkTeH"
      },
      "source": [
        "## 以下に回答を記述すること\n",
        "\n",
        "\n"
      ],
      "execution_count": null,
      "outputs": []
    },
    {
      "cell_type": "markdown",
      "metadata": {
        "id": "lHVB2ztJnNaA"
      },
      "source": [
        "## numpy.cos，numpy.sin，numpy.radians"
      ]
    },
    {
      "cell_type": "code",
      "metadata": {
        "id": "WZE1p7z9nTId"
      },
      "source": [
        "#list1-2 # 動作確認\n",
        "th = np.arange(0,360)\n",
        "\n",
        "x = np.cos(np.radians(th))\n",
        "y = np.sin(np.radians(th))\n",
        "\n",
        "plt.plot(x, y)\n",
        "plt.axis('equal')\n",
        "plt.grid(color = '0.8')\n",
        "plt.show()"
      ],
      "execution_count": null,
      "outputs": []
    },
    {
      "cell_type": "markdown",
      "metadata": {
        "id": "fYTonPKEpkRk"
      },
      "source": [
        "## 練習2"
      ]
    },
    {
      "cell_type": "code",
      "metadata": {
        "id": "c5i-43poppSZ"
      },
      "source": [
        "## 以下に回答を記述すること\n",
        "\n",
        "\n"
      ],
      "execution_count": null,
      "outputs": []
    },
    {
      "cell_type": "markdown",
      "metadata": {
        "id": "UZNr1444ruvd"
      },
      "source": [
        "## numpy.sqrt"
      ]
    },
    {
      "cell_type": "code",
      "metadata": {
        "id": "LAsE18B8r1v-"
      },
      "source": [
        "#list1-3 # 動作確認\n",
        "r = 300\n",
        "x = np.arange(-r, r+1)\n",
        "y = np.sqrt(r**2 - x**2)\n",
        "\n",
        "plt.plot(x, y)\n",
        "plt.axis('equal')\n",
        "plt.grid(color = '0.8')\n",
        "plt.show()"
      ],
      "execution_count": null,
      "outputs": []
    },
    {
      "cell_type": "markdown",
      "metadata": {
        "id": "TyMwSnj7vFKH"
      },
      "source": [
        "## 練習3"
      ]
    },
    {
      "cell_type": "code",
      "metadata": {
        "id": "0ieukJtkvI6s"
      },
      "source": [
        "## 以下に回答を記述すること\n",
        "\n",
        "\n"
      ],
      "execution_count": null,
      "outputs": []
    },
    {
      "cell_type": "markdown",
      "metadata": {
        "id": "bOp1FQfZ1kXy"
      },
      "source": [
        "# ベクトル "
      ]
    },
    {
      "cell_type": "markdown",
      "metadata": {
        "id": "MhfIzgNKXHVK"
      },
      "source": [
        "## numpy.array"
      ]
    },
    {
      "cell_type": "code",
      "metadata": {
        "id": "-IRqIhfk1s1F"
      },
      "source": [
        "# list1-4 # 動作確認\n",
        "a = np.array([2, 2])\n",
        "b = np.array([2, -1])\n",
        "print(a + b)\n",
        "print(a - b)\n",
        "print(2 * a)"
      ],
      "execution_count": null,
      "outputs": []
    },
    {
      "cell_type": "markdown",
      "metadata": {
        "id": "DRNi65c2PI7n"
      },
      "source": [
        "仕事の量の計算"
      ]
    },
    {
      "cell_type": "code",
      "metadata": {
        "id": "sQecGqXDPSIM"
      },
      "source": [
        "# 動作確認\n",
        "10 * np.cos(np.radians(60))"
      ],
      "execution_count": null,
      "outputs": []
    },
    {
      "cell_type": "markdown",
      "metadata": {
        "id": "crMPFAwAPreb"
      },
      "source": [
        "## numpy.dot \n",
        "\n",
        "ベクトルの内積を使って2直線のなす角度を求める"
      ]
    },
    {
      "cell_type": "code",
      "metadata": {
        "id": "BWS_nB3LPu9z"
      },
      "source": [
        "# list1-5 # 動作確認\n",
        "a = np.array([2, 7])\n",
        "b = np.array([6, 1])\n",
        "c = np.array([2, 3])\n",
        "d = np.array([6, 5])\n",
        "\n",
        "# ベクトルaとベクトルbの成分\n",
        "va = b - a\n",
        "vb = d - c\n",
        "\n",
        "# ベクトルの大きさ\n",
        "norm_a = np.linalg.norm(va)\n",
        "norm_b = np.linalg.norm(vb)\n",
        "\n",
        "# ベクトルの内積\n",
        "dot_ab = np.dot(va, vb)\n",
        "\n",
        "# 角度を求める\n",
        "cos_th = dot_ab / (norm_a * norm_b)\n",
        "rad = np.arccos(cos_th)\n",
        "deg = np.degrees(rad)\n",
        "print(deg)"
      ],
      "execution_count": null,
      "outputs": []
    },
    {
      "cell_type": "markdown",
      "metadata": {
        "id": "M1kb3ghV0gUb"
      },
      "source": [
        "## numpy.cross\n",
        "\n",
        "ベクトルの外積を求める"
      ]
    },
    {
      "cell_type": "code",
      "metadata": {
        "id": "B5bvBRtD1Y-8"
      },
      "source": [
        "# list1-6 # 動作確認\n",
        "a = np.array([0, 1, 2])\n",
        "b = np.array([2, 0, 0])\n",
        "np.cross(a, b)"
      ],
      "execution_count": null,
      "outputs": []
    },
    {
      "cell_type": "markdown",
      "metadata": {
        "id": "oXDWiu6CBk9u"
      },
      "source": [
        "# 行列"
      ]
    },
    {
      "cell_type": "markdown",
      "metadata": {
        "id": "qTd2HD7YXjmb"
      },
      "source": [
        "## numpy.matrix"
      ]
    },
    {
      "cell_type": "code",
      "metadata": {
        "id": "Dy3lCorpBn2x"
      },
      "source": [
        "# list1-7 # 動作確認\n",
        "A = np.matrix([[50, 40], [10, 10]])\n",
        "B = np.matrix([[30, 100], [20, 15]])\n",
        "print(A + B)\n",
        "print(A * B)\n",
        "print(0.8 * A)\n"
      ],
      "execution_count": null,
      "outputs": []
    },
    {
      "cell_type": "markdown",
      "metadata": {
        "id": "CsEFKuMrEM4G"
      },
      "source": [
        "## numpy.linalg.inv 逆行列"
      ]
    },
    {
      "cell_type": "code",
      "metadata": {
        "id": "Ubukb3uQEPI5"
      },
      "source": [
        "# list1-8 # 動作確認\n",
        "A = np.matrix([[5, 3], [2, 1]])\n",
        "B = np.linalg.inv(A)\n",
        "print(B)\n",
        "print(A * B)\n",
        "print(np.round(A * B).astype(np.int64))"
      ],
      "execution_count": null,
      "outputs": []
    },
    {
      "cell_type": "markdown",
      "metadata": {
        "id": "0OJ6VLZ1Wnmk"
      },
      "source": [
        "## 図形の対称移動"
      ]
    },
    {
      "cell_type": "code",
      "metadata": {
        "id": "5TXbX1uPWqJ4"
      },
      "source": [
        "# list1-9 # 動作確認\n",
        "p = np.matrix([[1,3,3,1],[1,1,2,1]])\n",
        "\n",
        "p = np.array(p)\n",
        "\n",
        "plt.plot(p[0, :], p[1, :])\n",
        "plt.axis('equal')\n",
        "plt.grid(color='0.8')\n",
        "plt.show()"
      ],
      "execution_count": null,
      "outputs": []
    },
    {
      "cell_type": "code",
      "metadata": {
        "id": "ZI6QDpE5axUi"
      },
      "source": [
        "# list1-10 # 動作確認\n",
        "p = np.matrix([[1,3,3,1],[1,1,2,1]])\n",
        "\n",
        "A = np.matrix([[1,0],[0,-1]])\n",
        "\n",
        "p2 = A * p\n",
        "print(p2)\n",
        "\n",
        "p = np.array(p)\n",
        "p2 = np.array(p2)\n",
        "plt.plot(p[0, :], p[1, :])\n",
        "plt.plot(p2[0, :], p2[1, :])\n",
        "plt.axis('equal')\n",
        "plt.grid(color='0.8')\n",
        "plt.show()"
      ],
      "execution_count": null,
      "outputs": []
    },
    {
      "cell_type": "markdown",
      "metadata": {
        "id": "CSbJF7Kc5PFz"
      },
      "source": [
        "## 練習4 図形の対称移動"
      ]
    },
    {
      "cell_type": "code",
      "metadata": {
        "id": "lqS8F6ub5TQ-"
      },
      "source": [
        "## 以下に回答を記述すること\n",
        "\n",
        "\n"
      ],
      "execution_count": null,
      "outputs": []
    },
    {
      "cell_type": "markdown",
      "metadata": {
        "id": "pz0ILTGn9l-6"
      },
      "source": [
        "## 図形の拡大，回転"
      ]
    },
    {
      "cell_type": "code",
      "metadata": {
        "id": "fdW9BDIB9pCs"
      },
      "source": [
        "# list1-11 # 動作確認\n",
        "p = np.matrix([[1,3,3,1],[1,1,2,1]])\n",
        "\n",
        "# A = np.matrix([[3,0],[0,3]])\n",
        "\n",
        "th = np.radians(90)\n",
        "A = np.matrix([[np.cos(th), -np.sin(th)], [np.sin(th), np.cos(th)]])\n",
        "\n",
        "p2 = A * p\n",
        "print(p2)\n",
        "\n",
        "p = np.array(p)\n",
        "p2 = np.array(p2)\n",
        "plt.plot(p[0, :], p[1, :])\n",
        "plt.plot(p2[0, :], p2[1, :])\n",
        "plt.axis('equal')\n",
        "plt.grid(color='0.8')\n",
        "plt.show()"
      ],
      "execution_count": null,
      "outputs": []
    },
    {
      "cell_type": "markdown",
      "metadata": {
        "id": "NbQGKZdTEwvS"
      },
      "source": [
        "# 統計"
      ]
    },
    {
      "cell_type": "markdown",
      "metadata": {
        "id": "4pBRejueX-jA"
      },
      "source": [
        "## numpy.random"
      ]
    },
    {
      "cell_type": "code",
      "metadata": {
        "id": "NvsGS3K-E07l"
      },
      "source": [
        "# list1-12 # 動作確認\n",
        "# 値が一つ返ってくる\n",
        "print(np.random.rand()) \n",
        "# 0-9の範囲にあるランダムな整数を返す\n",
        "print(np.random.randint(10)) \n",
        "# 2x3の乱数配列\n",
        "print(np.random.rand(2,3)) \n",
        "# sizeの個数で10未満の値を代入する\n",
        "print(np.random.randint(10, size=10)) \n",
        "# sizeの配列の形で10未満の値を代入する\n",
        "print(np.random.randint(10, size=(2,3))) \n",
        "# 5以上10未満の範囲でランダムな整数を返す\n",
        "print(np.random.randint(5,10, size=10)) \n",
        "# 5以上10未満の範囲でランダムな実数を返す\n",
        "print((10-5)*np.random.rand(10) + 5) "
      ],
      "execution_count": null,
      "outputs": []
    },
    {
      "cell_type": "markdown",
      "metadata": {
        "id": "gxSy9wKPJPiL"
      },
      "source": [
        "## 平均値，中央値，最頻値を求める"
      ]
    },
    {
      "cell_type": "code",
      "metadata": {
        "id": "TkraBLkXJWRV"
      },
      "source": [
        "# list1-13 # 動作確認\n",
        "\n",
        "dat = np.random.randint(10, size=20)\n",
        "print(dat)\n",
        "\n",
        "print('mean: ', np.mean(dat))\n",
        "print('median: ', np.median(dat))\n",
        "\n",
        "bincnt = np.bincount(dat)\n",
        "print('bincnt: ', bincnt)\n",
        "mode = np.argmax(bincnt)\n",
        "print('mode: ', mode)"
      ],
      "execution_count": null,
      "outputs": []
    },
    {
      "cell_type": "markdown",
      "metadata": {
        "id": "1UkF6-fZyZw0"
      },
      "source": [
        "## 練習5 最小値，最大値を求める"
      ]
    },
    {
      "cell_type": "code",
      "metadata": {
        "id": "QN39u5ZbycSY"
      },
      "source": [
        "## 以下に回答を記述すること\n",
        "\n",
        "\n",
        "\n"
      ],
      "execution_count": null,
      "outputs": []
    },
    {
      "cell_type": "markdown",
      "metadata": {
        "id": "jhA1yhAlalTX"
      },
      "source": [
        "---\n",
        "# 連絡事項\n",
        "\n",
        "練習問題の回答を提出する必要はありません．練習課題のプログラムを作成したら，演習課題に取り組んでください．"
      ]
    }
  ]
}